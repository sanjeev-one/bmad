{
 "cells": [
  {
   "cell_type": "markdown",
   "id": "f6bc35c5-8bb4-40b2-9962-8e9369e62384",
   "metadata": {
    "editable": true,
    "slideshow": {
     "slide_type": ""
    },
    "tags": []
   },
   "source": [
    "# Run simple FACET-II Linac simulation"
   ]
  },
  {
   "cell_type": "markdown",
   "id": "ce6aa614-22a4-4de3-8263-7e3c1d418cec",
   "metadata": {},
   "source": [
    "# Set up environment variables and import functions"
   ]
  },
  {
   "cell_type": "code",
   "execution_count": 1,
   "id": "6d04a382-26dd-4cf7-9277-130b0ab095b0",
   "metadata": {
    "editable": true,
    "slideshow": {
     "slide_type": ""
    },
    "tags": []
   },
   "outputs": [
    {
     "name": "stdout",
     "output_type": "stream",
     "text": [
      "env: FACET2_LATTICE=/sdf/home/s/sanjeev/github/facet2-lattice\n",
      "Make sure enviornment was set!:   /sdf/home/s/sanjeev/github/facet2-lattice\n"
     ]
    }
   ],
   "source": [
    "from pytao import Tao\n",
    "import numpy as np\n",
    "%matplotlib inline\n",
    "import matplotlib.pyplot as plt\n",
    "import matplotlib.cm as cm\n",
    "import matplotlib.patches as mpatches\n",
    "import re\n",
    "import io\n",
    "import math\n",
    "from os import path,environ\n",
    "import os\n",
    "import pandas as pd\n",
    "    \n",
    "from pmd_beamphysics import ParticleGroup\n",
    "from pmd_beamphysics.statistics import resample_particles\n",
    "import subprocess\n",
    "\n",
    "from IPython.display import display\n",
    "\n",
    "\n",
    "# Set environment variable - needed for lattice_init\n",
    "#%env FACET2_LATTICE /Users/cemma/Downloads/facet2-lattice\n",
    "%env FACET2_LATTICE /sdf/home/s/sanjeev/github/facet2-lattice\n",
    "\n",
    "print('Make sure enviornment was set!:  ', environ['FACET2_LATTICE']) \n",
    "# Note that you can't put a comment at the end of the magic line, jupyter doesn't read it as a comment\n",
    "\n",
    "# Load helper functions\n",
    "#%run /Users/cemma/Documents/Work/FACET-II/Bmad_sims/BmadHelperFunctions.ipynb\n",
    "%run /sdf/home/s/sanjeev/github/bmad/l1_l2_phase_scan/BmadHelperFunctions.ipynb"
   ]
  },
  {
   "cell_type": "markdown",
   "id": "fe06dddd-5709-4190-9575-f74a4ea48014",
   "metadata": {},
   "source": [
    "# Start Tao, set Linac Phases and plot Twiss Functions"
   ]
  },
  {
   "cell_type": "code",
   "execution_count": 2,
   "id": "a2dfd7d6-542b-4af7-ba09-36e31f19a20b",
   "metadata": {
    "editable": true,
    "slideshow": {
     "slide_type": ""
    },
    "tags": []
   },
   "outputs": [],
   "source": [
    "tao=Tao('-init {:s}/bmad/models/f2_elec/taoCEedit.init -noplot'.format(environ['FACET2_LATTICE'])) "
   ]
  },
  {
   "cell_type": "code",
   "execution_count": null,
   "id": "e3e0d050-1a82-4dc8-aca9-486fb8742fa5",
   "metadata": {},
   "outputs": [],
   "source": []
  },
  {
   "cell_type": "code",
   "execution_count": 3,
   "id": "0d46066e-512e-4065-b816-98c45fb3e875",
   "metadata": {},
   "outputs": [
    {
     "name": "stderr",
     "output_type": "stream",
     "text": [
      "<>:6: SyntaxWarning: invalid escape sequence '\\s'\n",
      "<>:6: SyntaxWarning: invalid escape sequence '\\s'\n",
      "/lscratch/sanjeev/tmp/ipykernel_4088997/3273526228.py:6: SyntaxWarning: invalid escape sequence '\\s'\n",
      "  floorplan=pd.read_csv(io.StringIO('\\n'.join(tao.show('lat -all -floor_coords -tracking_elements')[3:-5])), sep=\"[\\s\\n]+\",engine='python',\n"
     ]
    }
   ],
   "source": [
    "# Load floorplan and plot Twiss\n",
    "elements=tao.lat_ele_list();\n",
    "#tao.lat_list(elements[0],'ElementType')\n",
    "tao.ele_gen_attribs(elements[0]);\n",
    "\n",
    "floorplan=pd.read_csv(io.StringIO('\\n'.join(tao.show('lat -all -floor_coords -tracking_elements')[3:-5])), sep=\"[\\s\\n]+\",engine='python',\n",
    "            names=['Index','ElementName','ElementType','s','ds','X','Y','Z','Theta','Phi','Psi'])\n",
    "floorplan.drop(0,inplace=True)\n",
    "floorplan[::25].head(7);"
   ]
  },
  {
   "cell_type": "code",
   "execution_count": 4,
   "id": "34f5b835-65c6-48c9-8bc7-fe4c9c5d52ac",
   "metadata": {},
   "outputs": [],
   "source": [
    "# Display all the rf cavity elements\n",
    "floorplan[floorplan.ElementType.str.contains('cavity')][::1].head(10);\n",
    "# Display all Bunch Compressor elements\n",
    "floorplan[floorplan.ElementName.str.contains('BC')][::1].head(670);"
   ]
  },
  {
   "cell_type": "code",
   "execution_count": 5,
   "id": "de3905a3-49eb-48cb-879e-971da3181f6a",
   "metadata": {
    "editable": true,
    "slideshow": {
     "slide_type": ""
    },
    "tags": []
   },
   "outputs": [],
   "source": [
    "# Find element strings matching L1, L2 and L3\n",
    "#These more general match strings might cause problems by including both lords and slaves!\n",
    "L1MatchStrings = [\"K11_1*\", \"K11_2*\"]\n",
    "L2MatchStrings = [\"K11_4*\", \"K11_5*\", \"K11_6*\", \"K11_7*\", \"K11_8*\", \"K12_*\", \"K13_*\", \"K14_*\"]\n",
    "L3MatchStrings = [\"K15_*\", \"K16_*\", \"K17_*\", \"K18_*\", \"K19_*\"]\n",
    "\n",
    "#Therefore, use lat_list and these general search strings to get specific elements\n",
    "#Recall that, by default, lat_list has the flag \"-track_only\" so lords are not included\n",
    "#But some of the tracking elements are super_slaves which cannot be `set`\n",
    "\n",
    "#\"-array_out\" flag is on by default but if flags are edited, need to re-add manually to get numeric values back\n",
    "\n",
    "L1MatchStrings = np.concatenate( [ tao.lat_list(i,\"ele.name\", flags=\"-no_slaves\") for i in L1MatchStrings ] )\n",
    "L2MatchStrings = np.concatenate( [ tao.lat_list(i,\"ele.name\", flags=\"-no_slaves\") for i in L2MatchStrings ] )\n",
    "L3MatchStrings = np.concatenate( [ tao.lat_list(i,\"ele.name\", flags=\"-no_slaves\") for i in L3MatchStrings ] )\n",
    "\n",
    "# Define energy setpoints at exit of L0 L1 L2 in eV\n",
    "L0energy = 0.125e9;    \n",
    "L1energy = 0.338e9;\n",
    "L2energy = 4.5e9;\n",
    "\n",
    "\n",
    "\n",
    "\n",
    "\n",
    "\n",
    "def sim(L1phase, L2phase, n, dir_name):\n",
    "    \n",
    "    # Phase L1\n",
    "    setLinacPhase(L1MatchStrings, L1phase)\n",
    "    setLinacGradientAuto( L1MatchStrings, L1energy - L0energy )\n",
    "    \n",
    "    # Phase L2\n",
    "    setLinacPhase(L2MatchStrings, L2phase)\n",
    "    setLinacGradientAuto( L2MatchStrings, L2energy - L1energy )\n",
    "\n",
    "    display('L1phase and L2phase set')\n",
    "    #Get twiss functions\n",
    "    tao.cmd('set global lattice_calc_on = T')\n",
    "    s=np.array([tao.lat_list(x,'ele.s')[0] for x in floorplan.Index])\n",
    "    x=np.array([tao.lat_list(x,'orbit.floor.x')[0] for x in floorplan.Index])\n",
    "    beta_x=np.array([tao.lat_list(x,'ele.a.beta')[0] for x in floorplan.Index])\n",
    "    beta_y=np.array([tao.lat_list(x,'ele.b.beta')[0] for x in floorplan.Index])\n",
    "    alpha_x=np.array([tao.lat_list(x,'ele.a.alpha')[0] for x in floorplan.Index])\n",
    "    alpha_y=np.array([tao.lat_list(x,'ele.b.alpha')[0] for x in floorplan.Index])\n",
    "    etot=np.array([tao.lat_list(x,'ele.e_tot')[0] for x in floorplan.Index])\n",
    "    eta_y=np.array([tao.lat_list(x,'ele.y.eta')[0] for x in floorplan.Index])\n",
    "    eta_x=np.array([tao.lat_list(x,'ele.x.eta')[0] for x in floorplan.Index])\n",
    "    \n",
    "    display('twiss parameters set')\n",
    "    #fig.savefig(savefolder+'beamline'+savestem,transparent=False,bbox_inches='tight')\n",
    "\n",
    "\n",
    "    # Set the number of macro-particles\n",
    "    tao.cmd('set beam_init n_particle = 10000'); # limit to 10k particles for now \n",
    "    #todo - increase beam size to 1e5\n",
    "    \n",
    "    # Change the staring input beam to a S2E beam obtained from IMPACT \n",
    "    # tao.cmd('set beam_init position_file=L0AFEND_matched.h5')# IF you want to change the beam to the new matched beam at the start\n",
    "    # tao.cmd('reinit beam')\n",
    "    \n",
    "    # Change the starting beam to a matched Gaussian distribution with known charge and sigz\n",
    "    tao.cmd('set beam_init sig_z=0.78e-3')\n",
    "    tao.cmd('set beam_init bunch_charge=2e-9')\n",
    "    tao.cmd('reinit beam')\n",
    "\n",
    "    display('beam setup')\n",
    "    # Activate CSR and run particle tracking\n",
    "    \n",
    "    tao.cmd('call Activate_CSR[44].tao');\n",
    "    tao.cmd('csron') #only works once we define the alias \"csroff\" in the next section.\n",
    "    #tao.cmd('csroff') #only works once we define the alias \"csroff\" in the next section.\n",
    "    tao.cmd('set global track_type = beam') #set \"track_type = single\" to return to single particle\n",
    "    tao.cmd('set global track_type = single') #return to single to prevent accidental long re-evaluation\n",
    "\n",
    "    display('exporting beam')\n",
    "    #save data to be plot later\n",
    "    P = ParticleGroup(data=tao.bunch_data('PENT'))\n",
    "    P.write(f'./export/{dir_name}/openpmd_particles{n}.h5')\n",
    "\n",
    "    #display done\n",
    "    display(f'Run {n} finished')\n",
    "    display(f'now creating plot {n}')\n",
    "\n",
    "    P = P[P.status==1]\n",
    "    P.drift_to_z()\n",
    "    # General lPS plot and transverse profile\n",
    "    P.plot('delta_t', 'energy',bins=300)\n",
    "    \n",
    "    plt.suptitle(f'L1 phase = {L1phase} and L2 phase = {L2phase}')\n",
    "    plt.subplots_adjust(top=0.9)\n",
    "\n",
    "    plt.savefig(f'./export/{dir_name}/plots/plot_{n}.png')\n",
    "\n",
    "    display(f'Plot {n} created')\n",
    "\n",
    "    \n",
    "    \n",
    "    \n",
    "    return tao\n",
    "\n",
    "\n"
   ]
  },
  {
   "cell_type": "markdown",
   "id": "c6882417-fafe-4a7a-80b9-7a2135c38a53",
   "metadata": {},
   "source": [
    "# Scan L1phase and L2phase"
   ]
  },
  {
   "cell_type": "code",
   "execution_count": 6,
   "id": "710106ba-49a7-40ee-9cb4-3e34824245f7",
   "metadata": {},
   "outputs": [
    {
     "data": {
      "text/plain": [
       "'making dir: data_2024-05-25_11-45-52'"
      ]
     },
     "metadata": {},
     "output_type": "display_data"
    },
    {
     "data": {
      "text/plain": [
       "-20"
      ]
     },
     "metadata": {},
     "output_type": "display_data"
    },
    {
     "data": {
      "text/plain": [
       "-19"
      ]
     },
     "metadata": {},
     "output_type": "display_data"
    },
    {
     "data": {
      "text/plain": [
       "-18"
      ]
     },
     "metadata": {},
     "output_type": "display_data"
    },
    {
     "data": {
      "text/plain": [
       "-17"
      ]
     },
     "metadata": {},
     "output_type": "display_data"
    },
    {
     "data": {
      "text/plain": [
       "-16"
      ]
     },
     "metadata": {},
     "output_type": "display_data"
    },
    {
     "data": {
      "text/plain": [
       "-15"
      ]
     },
     "metadata": {},
     "output_type": "display_data"
    },
    {
     "data": {
      "text/plain": [
       "'---------'"
      ]
     },
     "metadata": {},
     "output_type": "display_data"
    },
    {
     "data": {
      "text/plain": [
       "-45"
      ]
     },
     "metadata": {},
     "output_type": "display_data"
    },
    {
     "data": {
      "text/plain": [
       "-44"
      ]
     },
     "metadata": {},
     "output_type": "display_data"
    },
    {
     "data": {
      "text/plain": [
       "-43"
      ]
     },
     "metadata": {},
     "output_type": "display_data"
    },
    {
     "data": {
      "text/plain": [
       "-42"
      ]
     },
     "metadata": {},
     "output_type": "display_data"
    },
    {
     "data": {
      "text/plain": [
       "-41"
      ]
     },
     "metadata": {},
     "output_type": "display_data"
    },
    {
     "data": {
      "text/plain": [
       "-40"
      ]
     },
     "metadata": {},
     "output_type": "display_data"
    },
    {
     "data": {
      "text/plain": [
       "-39"
      ]
     },
     "metadata": {},
     "output_type": "display_data"
    },
    {
     "data": {
      "text/plain": [
       "-38"
      ]
     },
     "metadata": {},
     "output_type": "display_data"
    },
    {
     "data": {
      "text/plain": [
       "-37"
      ]
     },
     "metadata": {},
     "output_type": "display_data"
    },
    {
     "data": {
      "text/plain": [
       "-36"
      ]
     },
     "metadata": {},
     "output_type": "display_data"
    },
    {
     "data": {
      "text/plain": [
       "-35"
      ]
     },
     "metadata": {},
     "output_type": "display_data"
    }
   ],
   "source": [
    "\n",
    "\n",
    "import os\n",
    "from datetime import datetime\n",
    "\n",
    "# Get the current date and time\n",
    "current_time = datetime.now().strftime(\"%Y-%m-%d_%H-%M-%S\")\n",
    "\n",
    "# Define the directory name\n",
    "dir_name = f\"data_{current_time}\"\n",
    "display(f'making dir: {dir_name}')\n",
    "\n",
    "# Create the directory\n",
    "os.makedirs(f'./export/{dir_name}', exist_ok=True)\n",
    "os.makedirs(f'./export/{dir_name}/plots', exist_ok=True)\n",
    "\n",
    "\n",
    "\n",
    "# Define L1 and L2 phases in deg\n",
    "# Define the ranges for L1phase and L2phase\n",
    "L1phase_range = range(-20, -14)\n",
    "L2phase_range = range(-45, -34)\n",
    "\n",
    "for i in L1phase_range:\n",
    "    display(i)\n",
    "display('---------')\n",
    "for i in L2phase_range:\n",
    "    display(i)\n",
    "\n",
    "\n"
   ]
  },
  {
   "cell_type": "code",
   "execution_count": null,
   "id": "0a8fa8e6-6ae8-423d-95e4-5fd32c503fa9",
   "metadata": {},
   "outputs": [
    {
     "data": {
      "text/plain": [
       "'Running L1phase: -20'"
      ]
     },
     "metadata": {},
     "output_type": "display_data"
    },
    {
     "data": {
      "text/plain": [
       "'Running L2phase: -45 (Step 1 of 66)'"
      ]
     },
     "metadata": {},
     "output_type": "display_data"
    },
    {
     "data": {
      "text/plain": [
       "'exporting beam'"
      ]
     },
     "metadata": {},
     "output_type": "display_data"
    },
    {
     "data": {
      "text/plain": [
       "'Run 10 finished'"
      ]
     },
     "metadata": {},
     "output_type": "display_data"
    },
    {
     "data": {
      "text/plain": [
       "'now creating plot 10'"
      ]
     },
     "metadata": {},
     "output_type": "display_data"
    },
    {
     "data": {
      "text/plain": [
       "'Plot 10 created'"
      ]
     },
     "metadata": {},
     "output_type": "display_data"
    },
    {
     "data": {
      "text/plain": [
       "'Running L2phase: -35 (Step 11 of 66)'"
      ]
     },
     "metadata": {},
     "output_type": "display_data"
    },
    {
     "data": {
      "text/plain": [
       "'L1phase and L2phase set'"
      ]
     },
     "metadata": {},
     "output_type": "display_data"
    },
    {
     "data": {
      "text/plain": [
       "'twiss parameters set'"
      ]
     },
     "metadata": {},
     "output_type": "display_data"
    },
    {
     "data": {
      "text/plain": [
       "'beam setup'"
      ]
     },
     "metadata": {},
     "output_type": "display_data"
    }
   ],
   "source": [
    "n = 1\n",
    "\n",
    "# Define L1 and L2 phases in deg for testing\n",
    "#L1phase2 = -17; \n",
    "#L2phase2 = -41.5;\n",
    "\n",
    "total_steps = len(L1phase_range) * len(L2phase_range)\n",
    "\n",
    "\n",
    "# Loop over the ranges\n",
    "for L1phase in L1phase_range:\n",
    "    display(f'Running L1phase: {L1phase}')\n",
    "    for L2phase in L2phase_range:\n",
    "        display(f'Running L2phase: {L2phase} (Step {n} of {total_steps})')\n",
    "\n",
    "        try:\n",
    "            sim(L1phase, L2phase, n, dir_name)\n",
    "        except Exception as e:\n",
    "            display(f\"Error during simulation {n} with L1phase={L1phase} and L2phase={L2phase}: {e}\")\n",
    "        n += 1\n",
    "\n",
    "#P = ParticleGroup(data=tao.bunch_data(PENT))\n",
    "\n",
    "#P.write('/export/openpmd_particles.h5')\n",
    "\n",
    "\n"
   ]
  },
  {
   "cell_type": "code",
   "execution_count": null,
   "id": "49d5af18-05c4-4c15-bcff-b6694786c79d",
   "metadata": {
    "editable": true,
    "slideshow": {
     "slide_type": ""
    },
    "tags": []
   },
   "outputs": [],
   "source": []
  },
  {
   "cell_type": "markdown",
   "id": "35abaf87-c134-4140-ab44-94bc266d1354",
   "metadata": {},
   "source": [
    "# Plot results"
   ]
  },
  {
   "cell_type": "markdown",
   "id": "7fc4ee1a-aa44-462f-89ff-c0c1b1071801",
   "metadata": {},
   "source": [
    "# Plot LPS at different locations\n",
    "# now look only at PENT\n",
    "locations = ['PENT'];\n",
    "\n",
    "for location in locations:\n",
    "    P = ParticleGroup(data=tao.bunch_data(location))\n",
    "    # Select out live particles\n",
    "    P = P[P.status==1]\n",
    "    P.drift_to_z()\n",
    "    # General lPS plot and transverse profile\n",
    "    P.plot('delta_t', 'energy',bins=300)"
   ]
  },
  {
   "cell_type": "markdown",
   "id": "7735dcf5-11ba-406a-8e46-4fd75777c3a7",
   "metadata": {},
   "source": [
    "# Plot the transverse spot at IP\n",
    "P = ParticleGroup(data=tao.bunch_data('PENT'))\n",
    "# Select out live particles\n",
    "P = P[P.status==1]\n",
    "P.drift_to_z()\n",
    "# General lPS plot and transverse profile\n",
    "P.plot('x', 'y',bins=300)\n",
    "stats = tao.bunch_params('PENT')\n",
    "print(stats['sigma_t'])\n",
    "print(P.twiss('x'))\n",
    "print(P.twiss('y'))"
   ]
  },
  {
   "cell_type": "markdown",
   "id": "8715f5cd-fb5b-4fb1-8228-1cf56c572f57",
   "metadata": {
    "scrolled": true
   },
   "source": [
    "# Plot the slice emittance and current profile\n",
    "P = ParticleGroup(data=tao.bunch_data('PENT'))\n",
    "# Select out live particles\n",
    "P = P[P.status==1]\n",
    "P.drift_to_z()\n",
    "# Define minz and maxz\n",
    "mint = 1.1e-12+3.31822e-6\n",
    "maxt = 2.2e-12+3.31822e-6\n",
    "\n",
    "# Filter P.x for values between minx and maxx\n",
    "filtered_indices = np.where((P.t >= mint) & (P.t <= maxt))\n",
    "filtered_P_x = P.t[filtered_indices]\n",
    "filtered_P_y = P.pz[filtered_indices]\n",
    "filtered_charge = P.weight[filtered_indices]\n",
    "\n",
    "# 2d Hist filtered data\n",
    "plt.hist2d(filtered_P_x, filtered_P_y, weights = filtered_charge,bins=100, cmap='viridis')\n",
    "plt.colorbar(label='Weighted Count')\n",
    "plt.xlabel('P.x')\n",
    "plt.ylabel('P.y')\n",
    "plt.title(f'2D Histogram of P.x and P.y (weighted) between {mint} and {maxt}')\n",
    "plt.grid(True)\n",
    "plt.show()"
   ]
  },
  {
   "cell_type": "markdown",
   "id": "4e555b88-12e5-48e2-9438-97b1aca70c50",
   "metadata": {},
   "source": [
    "P = P[filtered_indices]\n",
    "P.plot('delta_t', 'energy',bins=300)"
   ]
  },
  {
   "cell_type": "markdown",
   "id": "0c57801d-fad0-4db1-a750-8488265eed5b",
   "metadata": {},
   "source": [
    "gamma = P.energy/0.511e6;\n",
    "z = (P.t-np.mean(P.t))*3e8;\n",
    "nslices = 200;\n",
    "plt.scatter(z,gamma)\n",
    "plt.show()\n",
    "emitx, emity, slicez, slicebunchingfactor, current = calculate_slice_emittance(P.x, P.xp, P.y, P.yp, z, gamma, nslices, -1.0*P.charge)"
   ]
  },
  {
   "cell_type": "code",
   "execution_count": null,
   "id": "2c2bd886-7161-4d62-b169-425c88e824be",
   "metadata": {},
   "outputs": [],
   "source": []
  },
  {
   "cell_type": "code",
   "execution_count": null,
   "id": "a1f1464d-6e41-40bc-a93c-0650d1f566fd",
   "metadata": {},
   "outputs": [],
   "source": []
  }
 ],
 "metadata": {
  "kernelspec": {
   "display_name": "Python 3 (ipykernel)",
   "language": "python",
   "name": "python3"
  },
  "language_info": {
   "codemirror_mode": {
    "name": "ipython",
    "version": 3
   },
   "file_extension": ".py",
   "mimetype": "text/x-python",
   "name": "python",
   "nbconvert_exporter": "python",
   "pygments_lexer": "ipython3",
   "version": "3.12.2"
  }
 },
 "nbformat": 4,
 "nbformat_minor": 5
}
